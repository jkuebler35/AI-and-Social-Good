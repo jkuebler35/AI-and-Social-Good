{
 "cells": [
  {
   "cell_type": "markdown",
   "metadata": {},
   "source": [
    "# Setup"
   ]
  },
  {
   "cell_type": "code",
   "execution_count": 1,
   "metadata": {},
   "outputs": [],
   "source": [
    "%matplotlib inline\n",
    "import torch\n",
    "import torch.nn as nn\n",
    "import torch.nn.functional as F"
   ]
  },
  {
   "cell_type": "markdown",
   "metadata": {},
   "source": [
    "# Hard code the data and seperate into x and y"
   ]
  },
  {
   "cell_type": "code",
   "execution_count": 2,
   "metadata": {},
   "outputs": [],
   "source": [
    "train_data = torch.tensor(\n",
    "    [\n",
    "        [5,9,92],\n",
    "        [4,8,91],\n",
    "        [3,6,82],\n",
    "        [5,8,95],\n",
    "        [1,4,74],\n",
    "        [2,6,75],\n",
    "        [8,8,96],\n",
    "        [7,8,94],\n",
    "        [2,5,80],\n",
    "        [6,9,91]\n",
    "    ],\n",
    "    dtype=torch.float\n",
    ")\n",
    "\n",
    "x, y = train_data[:, :2], train_data[:, -1]\n",
    "y = y.view(len(y), 1)\n",
    "y = y / 100.0"
   ]
  },
  {
   "cell_type": "markdown",
   "metadata": {},
   "source": [
    "# Create a Module \n",
    "it has an input of two with 3 hidden units that are converted using the sigmoid function into 1 final unit"
   ]
  },
  {
   "cell_type": "code",
   "execution_count": 3,
   "metadata": {},
   "outputs": [],
   "source": [
    "class Grades(nn.Module):           \n",
    "  def __init__(self, D_in, D_out):\n",
    "    super(Grades, self).__init__()\n",
    "    self.lin1 = nn.Linear(D_in, 3, True)\n",
    "    self.lin2 = nn.Linear(3, D_out, True)\n",
    "  \n",
    "  def forward(self, y):\n",
    "    y = self.lin1(y)\n",
    "    y = torch.sigmoid(y)\n",
    "    y = self.lin2(y)\n",
    "    return y\n",
    "\n",
    "model = Grades(2, 1)"
   ]
  },
  {
   "cell_type": "markdown",
   "metadata": {},
   "source": [
    "# Create loss and Optimize function"
   ]
  },
  {
   "cell_type": "code",
   "execution_count": 4,
   "metadata": {},
   "outputs": [],
   "source": [
    "criterion = torch.nn.MSELoss()\n",
    "optimizer = torch.optim.SGD(model.parameters(), lr=0.001)                 "
   ]
  },
  {
   "cell_type": "markdown",
   "metadata": {},
   "source": [
    "# Run through 100 epochs\n",
    "the loss on the last epoch was only 0.002604"
   ]
  },
  {
   "cell_type": "code",
   "execution_count": 5,
   "metadata": {
    "scrolled": true
   },
   "outputs": [
    {
     "name": "stdout",
     "output_type": "stream",
     "text": [
      "Epoch: 100 \tLoss: 0.06034904718399048\n",
      "Epoch: 200 \tLoss: 0.019226040691137314\n",
      "Epoch: 300 \tLoss: 0.007437414024025202\n",
      "Epoch: 400 \tLoss: 0.00406090822070837\n",
      "Epoch: 500 \tLoss: 0.00308579346165061\n",
      "Epoch: 600 \tLoss: 0.0027939036954194307\n",
      "Epoch: 700 \tLoss: 0.0026960638351738453\n",
      "Epoch: 800 \tLoss: 0.002653367118909955\n",
      "Epoch: 900 \tLoss: 0.0026264290791004896\n",
      "Epoch: 1000 \tLoss: 0.0026040845550596714\n"
     ]
    }
   ],
   "source": [
    "epochs = 1000\n",
    "\n",
    "for epoch in range(epochs):\n",
    "  y_pred = model(x)\n",
    "  loss = criterion(y_pred, y)\n",
    "  if (epoch + 1) % 100 == 0:\n",
    "    print('Epoch:', epoch + 1, '\\tLoss:', loss.item())\n",
    "\n",
    "  optimizer.zero_grad()                             \n",
    "  loss.backward()                                    \n",
    "  optimizer.step()                                    "
   ]
  },
  {
   "cell_type": "markdown",
   "metadata": {},
   "source": [
    "# Print out Predictions"
   ]
  },
  {
   "cell_type": "code",
   "execution_count": 6,
   "metadata": {},
   "outputs": [
    {
     "name": "stdout",
     "output_type": "stream",
     "text": [
      "tensor([3., 9.])  prediction:  tensor([0.8733])\n",
      "tensor([1., 3.])  prediction:  tensor([0.7819])\n",
      "tensor([7., 7.])  prediction:  tensor([0.9010])\n",
      "tensor([4., 5.])  prediction:  tensor([0.8629])\n",
      "tensor([8., 9.])  prediction:  tensor([0.9092])\n"
     ]
    }
   ],
   "source": [
    "x_dev = torch.tensor(\n",
    "    [\n",
    "        [3, 9],\n",
    "        [1, 3],\n",
    "        [7, 7],\n",
    "        [4, 5],\n",
    "        [8, 9]\n",
    "    ],\n",
    "    dtype=torch.float\n",
    ")\n",
    "\n",
    "with torch.no_grad():\n",
    "  y_dev_pred = model(x_dev)\n",
    "\n",
    "for x, y in zip(x_dev, y_dev_pred):\n",
    "    print(x, ' prediction: ', y)"
   ]
  }
 ],
 "metadata": {
  "kernelspec": {
   "display_name": "Python 3",
   "language": "python",
   "name": "python3"
  },
  "language_info": {
   "codemirror_mode": {
    "name": "ipython",
    "version": 3
   },
   "file_extension": ".py",
   "mimetype": "text/x-python",
   "name": "python",
   "nbconvert_exporter": "python",
   "pygments_lexer": "ipython3",
   "version": "3.7.6"
  }
 },
 "nbformat": 4,
 "nbformat_minor": 4
}
